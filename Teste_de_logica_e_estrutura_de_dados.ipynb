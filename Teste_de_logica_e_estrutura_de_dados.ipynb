{
  "nbformat": 4,
  "nbformat_minor": 0,
  "metadata": {
    "colab": {
      "name": "Teste de logica e estrutura de dados.ipynb",
      "provenance": [],
      "collapsed_sections": []
    },
    "kernelspec": {
      "name": "python3",
      "display_name": "Python 3"
    },
    "language_info": {
      "name": "python"
    }
  },
  "cells": [
    {
      "cell_type": "markdown",
      "metadata": {
        "id": "NW1O5n3TV8cs"
      },
      "source": [
        "#**Python3 Backend - Exercícios**"
      ]
    },
    {
      "cell_type": "markdown",
      "metadata": {
        "id": "cR8wyeBUWN9A"
      },
      "source": [
        "## 1.   Criar código de exemplo para cada exercício que exige código separadamente;"
      ]
    },
    {
      "cell_type": "code",
      "metadata": {
        "id": "AOrIPQJgPlf0"
      },
      "source": [
        "import numpy as np"
      ],
      "execution_count": 1,
      "outputs": []
    },
    {
      "cell_type": "code",
      "metadata": {
        "id": "lW_Jgm6_9ztw"
      },
      "source": [
        "class VetorNaoOrdenado:\n",
        "    def __init__(self, capacidade):\n",
        "        self.capacidade = capacidade\n",
        "        self.ultima_posicao = -1\n",
        "        self.valores = np.empty(self.capacidade, dtype=int)\n",
        "\n",
        "\n",
        "    def show(self):\n",
        "        if self.ultima_posicao == -1:\n",
        "            print('O vetor está vazio')\n",
        "        else:\n",
        "            for i in range(self.ultima_posicao + 1):\n",
        "                print(i, ' - ', self.valores[i])\n",
        "\n",
        "\n",
        "    def push(self, valor):\n",
        "        if self.ultima_posicao == self.capacidade - 1:\n",
        "            print('Capacidade máxima atingida')\n",
        "        else:       \n",
        "            self.ultima_posicao += 1 \n",
        "            self.valores[self.ultima_posicao] = valor \n",
        "\n",
        "\n",
        "    def search(self, valor):\n",
        "        for i in range(self.ultima_posicao + 1):\n",
        "            if valor == self.valores[i]:\n",
        "                return i\n",
        "        return \"valor não encontrado\"\n",
        "\n",
        "\n",
        "    def pop(self, valor):\n",
        "        posicao = self.pesquisar(valor)\n",
        "        if posicao == -1:\n",
        "            return -1\n",
        "        else:\n",
        "            for i in range(posicao, self.ultima_posicao):\n",
        "                self.valores[i] = self.valores[i + 1]            \n",
        "                self.ultima_posicao -= 1"
      ],
      "execution_count": 2,
      "outputs": []
    },    
    {
      "cell_type": "markdown",
      "metadata": {
        "id": "nRKsszRCZrQq"
      },
      "source": [
        "Crie um script python que mostre um array com o nome do país e sua capital. Crie métodos que ordenem a lista pelo nome do país e pelo nome da capital. Adicione pelo menos 8 entradas no array."
      ]
    },
    {
      "cell_type": "code",
      "metadata": {
        "id": "drQgPIGVWsue"
      },
      "source": [
        "paises_e_capitais = {}\n",
        "\n",
        "def paises(ppais, pcapital):\n",
        "    paises_e_capitais[ppais] = pcapital\n",
        "\n",
        "\n",
        "def OrdenarPais(podr_pais):\n",
        "    ordenada = list(podr_pais.keys())\n",
        "    ordenada.sort()\n",
        "    for k in ordenada:\n",
        "        print(k, '-' ,paises_e_capitais[k])\n",
        "\n",
        "\n",
        "def OrdenarCapitais(podr_capital): \n",
        "    for i in sorted(podr_capital, key=podr_capital.get):\n",
        "        print(podr_capital[i], '-', i)   "
      ],
      "execution_count": 3,
      "outputs": []
    },
    {
      "cell_type": "code",
      "metadata": {
        "id": "qUrfKfnHoVI0"
      },
      "source": [
        "paises('Japão', 'Tóquio')\n",
        "paises('Paraguai', 'Assução')\n",
        "paises('Brasil', 'Brasilia')\n",
        "paises('Portugal', 'Lisboa')\n",
        "paises('Itália', 'Roma')\n",
        "paises('China', 'Pequim')\n",
        "paises('Canadá', 'Ottawa')\n",
        "paises('Grécia', 'Atenas')"
      ],
      "execution_count": 4,
      "outputs": []
    },
    {
      "cell_type": "code",
      "metadata": {
        "colab": {
          "base_uri": "https://localhost:8080/"
        },
        "id": "CatbprMv3EGh",
        "outputId": "fb5597dc-2441-4f67-9a46-f37411d81868"
      },
      "source": [
        "OrdenarPais(paises_e_capitais)"
      ],
      "execution_count": 5,
      "outputs": [
        {
          "output_type": "stream",
          "name": "stdout",
          "text": [
            "Brasil - Brasilia\n",
            "Canadá - Ottawa\n",
            "China - Pequim\n",
            "Grécia - Atenas\n",
            "Itália - Roma\n",
            "Japão - Tóquio\n",
            "Paraguai - Assução\n",
            "Portugal - Lisboa\n"
          ]
        }
      ]
    },
    {
      "cell_type": "code",
      "metadata": {
        "colab": {
          "base_uri": "https://localhost:8080/"
        },
        "id": "RLQgWiQ3Dtop",
        "outputId": "7554830c-647f-4b84-d8e0-213f0817506d"
      },
      "source": [
        "OrdenarCapitais(paises_e_capitais)"
      ],
      "execution_count": 6,
      "outputs": [
        {
          "output_type": "stream",
          "name": "stdout",
          "text": [
            "Assução - Paraguai\n",
            "Atenas - Grécia\n",
            "Brasilia - Brasil\n",
            "Lisboa - Portugal\n",
            "Ottawa - Canadá\n",
            "Pequim - China\n",
            "Roma - Itália\n",
            "Tóquio - Japão\n"
          ]
        }
      ]
    },
    {
      "cell_type": "markdown",
      "metadata": {
        "id": "qU6_Lukcw8BA"
      },
      "source": [
        "#logica de programação"
      ]
    },
    {
      "cell_type": "code",
      "metadata": {
        "id": "leuN55MPZDzy"
      },
      "source": [
        "def numerovales(ppasso):\n",
        "    num_passos = len(ppasso)\n",
        "    direcao = []\n",
        "    for i in ppasso:\n",
        "        if i == \"D\":\n",
        "            direcao.append(-1)\n",
        "        else:\n",
        "            direcao.append(1)\n",
        "    nv = 0\n",
        "    vale = 0\n",
        "    for v in direcao:    \n",
        "        if v < 0 and nv == 0:\n",
        "            vale += 1\n",
        "        nv += v\n",
        "        \n",
        "    return f\"Passo = {num_passos} caminho = {ppasso} retorno = {vale}\"\n",
        "    \n"
      ],
      "execution_count": 7,
      "outputs": []
    },
    {
      "cell_type": "code",
      "metadata": {
        "colab": {
          "base_uri": "https://localhost:8080/",
          "height": 35
        },
        "id": "C6vI6n93Zb7J",
        "outputId": "c9943a7c-d330-4175-ceed-1e04005af9cd"
      },
      "source": [
        "caminho1 = ['D','D','U','U','D','D','U','D','U','U','U','D']\n",
        "numerovales(caminho1)"
      ],
      "execution_count": 8,
      "outputs": [
        {
          "output_type": "execute_result",
          "data": {
            "application/vnd.google.colaboratory.intrinsic+json": {
              "type": "string"
            },
            "text/plain": [
              "\"Passo = 12 caminho = ['D', 'D', 'U', 'U', 'D', 'D', 'U', 'D', 'U', 'U', 'U', 'D'] retorno = 2\""
            ]
          },
          "metadata": {},
          "execution_count": 8
        }
      ]
    },
    {
      "cell_type": "code",
      "metadata": {
        "colab": {
          "base_uri": "https://localhost:8080/",
          "height": 35
        },
        "id": "cqi_hAdDk2dW",
        "outputId": "38bd62e7-4bbd-4eb8-fbb7-0a44bcb7c4b4"
      },
      "source": [
        "caminho2 = ['D','U', 'D', 'D' ,'D','U','U','D','U','U']\n",
        "numerovales(caminho2)"
      ],
      "execution_count": 9,
      "outputs": [
        {
          "output_type": "execute_result",
          "data": {
            "application/vnd.google.colaboratory.intrinsic+json": {
              "type": "string"
            },
            "text/plain": [
              "\"Passo = 10 caminho = ['D', 'U', 'D', 'D', 'D', 'U', 'U', 'D', 'U', 'U'] retorno = 2\""
            ]
          },
          "metadata": {},
          "execution_count": 9
        }
      ]
    },
    {
      "cell_type": "code",
      "metadata": {
        "colab": {
          "base_uri": "https://localhost:8080/",
          "height": 35
        },
        "id": "merG5ggAlVCp",
        "outputId": "8e0849f1-e716-45c9-aae3-d9f8cefefba5"
      },
      "source": [
        "caminho3 = ['U','D','D','D','U','D','U','D','U','U']\n",
        "numerovales(caminho3)"
      ],
      "execution_count": 10,
      "outputs": [
        {
          "output_type": "execute_result",
          "data": {
            "application/vnd.google.colaboratory.intrinsic+json": {
              "type": "string"
            },
            "text/plain": [
              "\"Passo = 10 caminho = ['U', 'D', 'D', 'D', 'U', 'D', 'U', 'D', 'U', 'U'] retorno = 1\""
            ]
          },
          "metadata": {},
          "execution_count": 10
        }
      ]
    },
    {
      "cell_type": "code",
      "metadata": {
        "colab": {
          "base_uri": "https://localhost:8080/",
          "height": 71
        },
        "id": "aZMapzkhpEni",
        "outputId": "e49c7dbd-3976-48b4-91b9-12722f96c171"
      },
      "source": [
        "caminho5 = list('DUDUUUUUUUUDUDDUUDUUDDDUUDDDDDUUDUUUUDDDUUUUUUUDDUDUDUUUDDDDUUDDDUDDDDUUDDUDDUUUDUUUDUUDUDUDDDDDDDDD')\n",
        "numerovales(caminho5)"
      ],
      "execution_count": 11,
      "outputs": [
        {
          "output_type": "execute_result",
          "data": {
            "application/vnd.google.colaboratory.intrinsic+json": {
              "type": "string"
            },
            "text/plain": [
              "\"Passo = 100 caminho = ['D', 'U', 'D', 'U', 'U', 'U', 'U', 'U', 'U', 'U', 'U', 'D', 'U', 'D', 'D', 'U', 'U', 'D', 'U', 'U', 'D', 'D', 'D', 'U', 'U', 'D', 'D', 'D', 'D', 'D', 'U', 'U', 'D', 'U', 'U', 'U', 'U', 'D', 'D', 'D', 'U', 'U', 'U', 'U', 'U', 'U', 'U', 'D', 'D', 'U', 'D', 'U', 'D', 'U', 'U', 'U', 'D', 'D', 'D', 'D', 'U', 'U', 'D', 'D', 'D', 'U', 'D', 'D', 'D', 'D', 'U', 'U', 'D', 'D', 'U', 'D', 'D', 'U', 'U', 'U', 'D', 'U', 'U', 'U', 'D', 'U', 'U', 'D', 'U', 'D', 'U', 'D', 'D', 'D', 'D', 'D', 'D', 'D', 'D', 'D'] retorno = 2\""
            ]
          },
          "metadata": {},
          "execution_count": 11
        }
      ]
    }
  ]
}
