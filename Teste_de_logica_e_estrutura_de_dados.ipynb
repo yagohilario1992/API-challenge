{
  "nbformat": 4,
  "nbformat_minor": 0,
  "metadata": {
    "colab": {
      "name": "Teste de logica e estrutura de dados.ipynb",
      "provenance": [],
      "collapsed_sections": [],
      "authorship_tag": "ABX9TyPcOnLYKRgGKl2dyubAVPzy",
      "include_colab_link": true
    },
    "kernelspec": {
      "name": "python3",
      "display_name": "Python 3"
    },
    "language_info": {
      "name": "python"
    }
  },
  "cells": [
    {
      "cell_type": "markdown",
      "metadata": {
        "id": "view-in-github",
        "colab_type": "text"
      },
      "source": [
        "<a href=\"https://colab.research.google.com/github/yagohilario1992/API-challenge/blob/main/Teste_de_logica_e_estrutura_de_dados.ipynb\" target=\"_parent\"><img src=\"https://colab.research.google.com/assets/colab-badge.svg\" alt=\"Open In Colab\"/></a>"
      ]
    },
    {
      "cell_type": "markdown",
      "metadata": {
        "id": "NW1O5n3TV8cs"
      },
      "source": [
        "#**Python3 Backend - Exercícios**"
      ]
    },
    {
      "cell_type": "markdown",
      "metadata": {
        "id": "cR8wyeBUWN9A"
      },
      "source": [
        "## 1. Implementando algoritmo de vetores não ordenados."
      ]
    },
    {
      "cell_type": "code",
      "metadata": {
        "id": "AOrIPQJgPlf0"
      },
      "source": [
        "import numpy as np"
      ],
      "execution_count": 1,
      "outputs": []
    },
    {
      "cell_type": "code",
      "metadata": {
        "id": "lW_Jgm6_9ztw"
      },
      "source": [
        "class VetorNaoOrdenado:\n",
        "    def __init__(self, capacidade):\n",
        "        self.capacidade = capacidade\n",
        "        self.ultima_posicao = -1\n",
        "        self.valores = np.empty(self.capacidade, dtype=int)\n",
        "\n",
        "\n",
        "    def show(self):\n",
        "        if self.ultima_posicao == -1:\n",
        "            print('O vetor está vazio')\n",
        "        else:\n",
        "            for i in range(self.ultima_posicao + 1):\n",
        "                print(i, ' - ', self.valores[i])\n",
        "\n",
        "\n",
        "    def push(self, valor):\n",
        "        if self.ultima_posicao == self.capacidade - 1:\n",
        "            print('Capacidade máxima atingida')\n",
        "        else:       \n",
        "            self.ultima_posicao += 1 \n",
        "            self.valores[self.ultima_posicao] = valor \n",
        "\n",
        "\n",
        "    def search(self, valor):\n",
        "        for i in range(self.ultima_posicao + 1):\n",
        "            if valor == self.valores[i]:\n",
        "                return i\n",
        "        return \"valor não encontrado\"\n",
        "\n",
        "\n",
        "    def pop(self, valor):\n",
        "        posicao = self.pesquisar(valor)\n",
        "        if posicao == -1:\n",
        "            return -1\n",
        "        else:\n",
        "            for i in range(posicao, self.ultima_posicao):\n",
        "                self.valores[i] = self.valores[i + 1]            \n",
        "                self.ultima_posicao -= 1"
      ],
      "execution_count": 2,
      "outputs": []
    },
    {
      "cell_type": "markdown",
      "metadata": {
        "id": "nRKsszRCZrQq"
      },
      "source": [
        "## 2. Crie um script python que mostre um array com o nome do país e sua capital. Crie métodos que ordenem a lista pelo nome do país e pelo nome da capital. Adicione pelo menos 8 entradas no array."
      ]
    },
    {
      "cell_type": "markdown",
      "metadata": {
        "id": "m-W0GPV_0LUJ"
      },
      "source": [
        "### Funções"
      ]
    },
    {
      "cell_type": "code",
      "metadata": {
        "id": "drQgPIGVWsue"
      },
      "source": [
        "paises_e_capitais = {}\n",
        "\n",
        "def paises(ppais, pcapital):\n",
        "    paises_e_capitais[ppais] = pcapital\n",
        "\n",
        "\n",
        "def OrdenarPais(podr_pais):\n",
        "    ordenada = list(podr_pais.keys())\n",
        "    ordenada.sort()\n",
        "    for k in ordenada:\n",
        "        print(k, '-' ,paises_e_capitais[k])\n",
        "\n",
        "\n",
        "def OrdenarCapitais(podr_capital): \n",
        "    for i in sorted(podr_capital, key=podr_capital.get):\n",
        "        print(podr_capital[i], '-', i)   "
      ],
      "execution_count": 3,
      "outputs": []
    },
    {
      "cell_type": "markdown",
      "metadata": {
        "id": "n5hUpQ9I0Rr1"
      },
      "source": [
        "### Input de dados"
      ]
    },
    {
      "cell_type": "code",
      "metadata": {
        "id": "qUrfKfnHoVI0"
      },
      "source": [
        "paises('Japão', 'Tóquio')\n",
        "paises('Paraguai', 'Assução')\n",
        "paises('Brasil', 'Brasilia')\n",
        "paises('Portugal', 'Lisboa')\n",
        "paises('Itália', 'Roma')\n",
        "paises('China', 'Pequim')\n",
        "paises('Canadá', 'Ottawa')\n",
        "paises('Grécia', 'Atenas')"
      ],
      "execution_count": 4,
      "outputs": []
    },
    {
      "cell_type": "markdown",
      "metadata": {
        "id": "cme5EKEB0U5j"
      },
      "source": [
        "###Ordenado por países "
      ]
    },
    {
      "cell_type": "code",
      "metadata": {
        "colab": {
          "base_uri": "https://localhost:8080/"
        },
        "id": "CatbprMv3EGh",
        "outputId": "fb5597dc-2441-4f67-9a46-f37411d81868"
      },
      "source": [
        "OrdenarPais(paises_e_capitais)"
      ],
      "execution_count": 5,
      "outputs": [
        {
          "output_type": "stream",
          "name": "stdout",
          "text": [
            "Brasil - Brasilia\n",
            "Canadá - Ottawa\n",
            "China - Pequim\n",
            "Grécia - Atenas\n",
            "Itália - Roma\n",
            "Japão - Tóquio\n",
            "Paraguai - Assução\n",
            "Portugal - Lisboa\n"
          ]
        }
      ]
    },
    {
      "cell_type": "markdown",
      "metadata": {
        "id": "bD4Un9oV0bcy"
      },
      "source": [
        "###Ordenado por capitais"
      ]
    },
    {
      "cell_type": "code",
      "metadata": {
        "colab": {
          "base_uri": "https://localhost:8080/"
        },
        "id": "RLQgWiQ3Dtop",
        "outputId": "7554830c-647f-4b84-d8e0-213f0817506d"
      },
      "source": [
        "OrdenarCapitais(paises_e_capitais)"
      ],
      "execution_count": 6,
      "outputs": [
        {
          "output_type": "stream",
          "name": "stdout",
          "text": [
            "Assução - Paraguai\n",
            "Atenas - Grécia\n",
            "Brasilia - Brasil\n",
            "Lisboa - Portugal\n",
            "Ottawa - Canadá\n",
            "Pequim - China\n",
            "Roma - Itália\n",
            "Tóquio - Japão\n"
          ]
        }
      ]
    },
    {
      "cell_type": "markdown",
      "metadata": {
        "id": "qU6_Lukcw8BA"
      },
      "source": [
        "#Lógica de programação"
      ]
    },
    {
      "cell_type": "code",
      "metadata": {
        "id": "leuN55MPZDzy"
      },
      "source": [
        "def numerovales(ppasso):\n",
        "    num_passos = len(ppasso)\n",
        "    direcao = []\n",
        "    for i in ppasso:\n",
        "        if i == \"D\":\n",
        "            direcao.append(-1)\n",
        "        else:\n",
        "            direcao.append(1)\n",
        "    nivel_terreno = 0 #variavel para verificar se estamos ao nivel do mar (0)\n",
        "    vale = 0\n",
        "    for v in direcao:    \n",
        "        if v < 0 and nivel_terreno == 0:\n",
        "            vale += 1\n",
        "        nivel_terreno += v\n",
        "\n",
        "    return f\"Passo = {num_passos} caminho = {ppasso} retorno = {vale}\"\n",
        "    \n"
      ],
      "execution_count": 14,
      "outputs": []
    },
    {
      "cell_type": "markdown",
      "metadata": {
        "id": "ypAwAR1O0lR9"
      },
      "source": [
        "### Testes"
      ]
    },
    {
      "cell_type": "code",
      "metadata": {
        "colab": {
          "base_uri": "https://localhost:8080/",
          "height": 35
        },
        "id": "C6vI6n93Zb7J",
        "outputId": "f4920f40-3f37-47ab-986b-2272f73a4760"
      },
      "source": [
        "caminho1 = ['D','D','U','U','D','D','U','D','U','U','U','D']\n",
        "numerovales(caminho1)"
      ],
      "execution_count": 15,
      "outputs": [
        {
          "output_type": "execute_result",
          "data": {
            "application/vnd.google.colaboratory.intrinsic+json": {
              "type": "string"
            },
            "text/plain": [
              "\"Passo = 12 caminho = ['D', 'D', 'U', 'U', 'D', 'D', 'U', 'D', 'U', 'U', 'U', 'D'] retorno = 2\""
            ]
          },
          "metadata": {},
          "execution_count": 15
        }
      ]
    },
    {
      "cell_type": "code",
      "metadata": {
        "colab": {
          "base_uri": "https://localhost:8080/",
          "height": 35
        },
        "id": "cqi_hAdDk2dW",
        "outputId": "c3d07dea-b48d-4671-f388-66ca151d1932"
      },
      "source": [
        "caminho2 = ['D','U', 'D', 'D' ,'D','U','U','D','U','U']\n",
        "numerovales(caminho2)"
      ],
      "execution_count": 16,
      "outputs": [
        {
          "output_type": "execute_result",
          "data": {
            "application/vnd.google.colaboratory.intrinsic+json": {
              "type": "string"
            },
            "text/plain": [
              "\"Passo = 10 caminho = ['D', 'U', 'D', 'D', 'D', 'U', 'U', 'D', 'U', 'U'] retorno = 2\""
            ]
          },
          "metadata": {},
          "execution_count": 16
        }
      ]
    },
    {
      "cell_type": "code",
      "metadata": {
        "colab": {
          "base_uri": "https://localhost:8080/",
          "height": 35
        },
        "id": "merG5ggAlVCp",
        "outputId": "6b446841-9c2b-4d6d-ee7b-224185101321"
      },
      "source": [
        "caminho3 = ['U','D','D','D','U','D','U','D','U','U']\n",
        "numerovales(caminho3)"
      ],
      "execution_count": 17,
      "outputs": [
        {
          "output_type": "execute_result",
          "data": {
            "application/vnd.google.colaboratory.intrinsic+json": {
              "type": "string"
            },
            "text/plain": [
              "\"Passo = 10 caminho = ['U', 'D', 'D', 'D', 'U', 'D', 'U', 'D', 'U', 'U'] retorno = 1\""
            ]
          },
          "metadata": {},
          "execution_count": 17
        }
      ]
    },
    {
      "cell_type": "code",
      "metadata": {
        "colab": {
          "base_uri": "https://localhost:8080/",
          "height": 71
        },
        "id": "aZMapzkhpEni",
        "outputId": "9beab608-c1d4-423c-fda7-ee30447ac6c7"
      },
      "source": [
        "caminho5 = list('DUDUUUUUUUUDUDDUUDUUDDDUUDDDDDUUDUUUUDDDUUUUUUUDDUDUDUUUDDDDUUDDDUDDDDUUDDUDDUUUDUUUDUUDUDUDDDDDDDDD')\n",
        "numerovales(caminho5)"
      ],
      "execution_count": 18,
      "outputs": [
        {
          "output_type": "execute_result",
          "data": {
            "application/vnd.google.colaboratory.intrinsic+json": {
              "type": "string"
            },
            "text/plain": [
              "\"Passo = 100 caminho = ['D', 'U', 'D', 'U', 'U', 'U', 'U', 'U', 'U', 'U', 'U', 'D', 'U', 'D', 'D', 'U', 'U', 'D', 'U', 'U', 'D', 'D', 'D', 'U', 'U', 'D', 'D', 'D', 'D', 'D', 'U', 'U', 'D', 'U', 'U', 'U', 'U', 'D', 'D', 'D', 'U', 'U', 'U', 'U', 'U', 'U', 'U', 'D', 'D', 'U', 'D', 'U', 'D', 'U', 'U', 'U', 'D', 'D', 'D', 'D', 'U', 'U', 'D', 'D', 'D', 'U', 'D', 'D', 'D', 'D', 'U', 'U', 'D', 'D', 'U', 'D', 'D', 'U', 'U', 'U', 'D', 'U', 'U', 'U', 'D', 'U', 'U', 'D', 'U', 'D', 'U', 'D', 'D', 'D', 'D', 'D', 'D', 'D', 'D', 'D'] retorno = 2\""
            ]
          },
          "metadata": {},
          "execution_count": 18
        }
      ]
    }
  ]
}